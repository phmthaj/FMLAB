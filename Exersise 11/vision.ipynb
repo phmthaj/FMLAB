{
 "cells": [
  {
   "cell_type": "code",
   "execution_count": 1,
   "id": "9a896d8b-6a20-4c0c-97a5-4d51ac62c439",
   "metadata": {},
   "outputs": [],
   "source": [
    "import torch\n",
    "import torch.nn as nn"
   ]
  },
  {
   "cell_type": "code",
   "execution_count": 2,
   "id": "5bc105c3-0740-4d63-9075-9d1f9eb450b8",
   "metadata": {},
   "outputs": [],
   "source": [
    "import torch.nn.functional as F\n",
    "import torch.optim as optim\n",
    "from torchvision import datasets, transforms\n",
    "import numpy as np\n",
    "import matplotlib.pyplot as plt\n",
    "import random"
   ]
  },
  {
   "cell_type": "code",
   "execution_count": 3,
   "id": "7cde1d5e-1338-4b9c-a8ca-37d8438a1772",
   "metadata": {},
   "outputs": [],
   "source": [
    "transform = transforms.Compose([\n",
    "    transforms.ToTensor(),            \n",
    "    transforms.Normalize((0.5,), (0.5,))   # optional nhưng rất nên có\n",
    "])"
   ]
  },
  {
   "cell_type": "code",
   "execution_count": 4,
   "id": "a6cc9c91-f17b-464e-99ad-12744172c43d",
   "metadata": {},
   "outputs": [],
   "source": [
    "device = 'cuda' if torch.cuda.is_available() else 'cpu'"
   ]
  },
  {
   "cell_type": "code",
   "execution_count": 5,
   "id": "d8fefb01-aa0b-4cf6-adee-857bc4e778df",
   "metadata": {},
   "outputs": [
    {
     "data": {
      "text/plain": [
       "'cuda'"
      ]
     },
     "execution_count": 5,
     "metadata": {},
     "output_type": "execute_result"
    }
   ],
   "source": [
    "device"
   ]
  },
  {
   "cell_type": "code",
   "execution_count": 6,
   "id": "f3787f2b-ad13-4c2f-b7e1-6616fdb4c019",
   "metadata": {},
   "outputs": [],
   "source": [
    "train_dataset = datasets.MNIST(\n",
    "    root='./data',        \n",
    "    train=True,           \n",
    "    transform=None,  \n",
    "    download=True         \n",
    ")"
   ]
  },
  {
   "cell_type": "code",
   "execution_count": 7,
   "id": "4c191fb4-cdb6-4df5-862c-b0014285c0cd",
   "metadata": {},
   "outputs": [],
   "source": [
    "test_dataset = datasets.MNIST('../data', train=False,download = True, transform=None)\n"
   ]
  },
  {
   "cell_type": "code",
   "execution_count": 8,
   "id": "6e0ca91c-cf4f-4e93-9c7e-e50ebe6dd929",
   "metadata": {},
   "outputs": [],
   "source": [
    "from torch.utils.data import Dataset"
   ]
  },
  {
   "cell_type": "code",
   "execution_count": 9,
   "id": "f27fd2a5-40ed-4b30-bffa-c5aaadf960e7",
   "metadata": {},
   "outputs": [],
   "source": [
    "class MyData(Dataset):\n",
    "    def __init__ (self, raw_dataset, transform):\n",
    "        self.dataset = raw_dataset\n",
    "        self.transform = transform\n",
    "    def __len__(self):\n",
    "        return len(self.dataset)\n",
    "    def __getitem__(self,idx):\n",
    "        img, label = self.dataset[idx]\n",
    "        img = self.transform(img)\n",
    "        return img, label"
   ]
  },
  {
   "cell_type": "code",
   "execution_count": 10,
   "id": "6b090a71-7452-49f0-8fbf-a733fd6db67e",
   "metadata": {},
   "outputs": [],
   "source": [
    "train_set = MyData(train_dataset, transform)"
   ]
  },
  {
   "cell_type": "code",
   "execution_count": 11,
   "id": "42694ead-3b9b-4143-88f7-3a7fe922e178",
   "metadata": {},
   "outputs": [],
   "source": [
    "test_set = MyData(test_dataset, transform)"
   ]
  },
  {
   "cell_type": "code",
   "execution_count": 12,
   "id": "7a1b15a9-f193-4e00-9004-4803f16feab6",
   "metadata": {},
   "outputs": [],
   "source": [
    "from torch.utils.data import DataLoader\n",
    "\n",
    "train_loader = DataLoader(train_set, batch_size = 64, shuffle = True)\n",
    "test_loader = DataLoader(test_set, batch_size = 64, shuffle = True)"
   ]
  },
  {
   "cell_type": "code",
   "execution_count": 13,
   "id": "0879a3f6-0543-4ad3-888e-6cefe3eafabf",
   "metadata": {},
   "outputs": [],
   "source": [
    "class MyNet(nn.Module):\n",
    "    def __init__ (self,pdrop = 0.4):\n",
    "        super(MyNet,self).__init__()\n",
    "        self.dropout = nn.Dropout(pdrop)\n",
    "        self.relu = nn.ReLU()\n",
    "        self.cnn1 = nn.Conv2d(in_channels = 1, out_channels = 16, kernel_size = 3, padding = 1)\n",
    "        self.maxpool1 = nn.MaxPool2d(kernel_size = 2, stride = 2)\n",
    "        self.cnn2 = nn.Conv2d(in_channels = 16, out_channels = 32, kernel_size = 3, padding = 1)\n",
    "        self.maxpool2 = nn.MaxPool2d(kernel_size = 2, stride = 2)\n",
    "\n",
    "        self.linear1 = nn.Linear(in_features = 32 * 7 * 7, out_features = 256)\n",
    "        self.linear2 = nn.Linear(in_features = 256, out_features = 128)\n",
    "        self.linear3 = nn.Linear(in_features = 128, out_features = 10)\n",
    "    def forward(self,x):\n",
    "        x = self.cnn1(x)               # (32x1x28x28) => (32x16x28x28)\n",
    "        x = self.relu(x)\n",
    "        x = self.maxpool1(x)           # (32x16x28x28) => (32x16x14x14)\n",
    "\n",
    "        x = self.cnn2(x)               # (32x16x14x14) => (32x32x14x14)\n",
    "        x = self.relu(x)\n",
    "        x = self.maxpool2(x)           # (32x32x14x14) => (32x32x7x7)\n",
    "\n",
    "        x = x.view(x.size(0), -1)   # (32x32x7x7) => (32,1568)\n",
    "\n",
    "        tensor_x = self.linear1(x)\n",
    "        tensor_x = self.relu(tensor_x)\n",
    "        tensor_x = self.dropout(tensor_x)     # (32,256)\n",
    "\n",
    "        tensor_x = self.linear2(tensor_x)\n",
    "        tensor_x = self.relu(tensor_x)\n",
    "        tensor_x = self.dropout(tensor_x)     # (32,128)\n",
    "\n",
    "        tensor_x = self.linear3(tensor_x)     # (32,10)\n",
    "        return tensor_x\n",
    "        "
   ]
  },
  {
   "cell_type": "code",
   "execution_count": 14,
   "id": "ae51f37c-3960-4042-858c-3110e053198d",
   "metadata": {},
   "outputs": [],
   "source": [
    "model_cnn = MyNet(pdrop=0.4).to(device)\n"
   ]
  },
  {
   "cell_type": "code",
   "execution_count": 15,
   "id": "743bd390-6a06-4cf8-be49-6dfe351b3ada",
   "metadata": {},
   "outputs": [],
   "source": [
    "critetion = nn.CrossEntropyLoss()"
   ]
  },
  {
   "cell_type": "code",
   "execution_count": 16,
   "id": "1aad9705-34e4-478c-8e5a-2f687262b72c",
   "metadata": {},
   "outputs": [],
   "source": [
    "optimizer = torch.optim.Adam(model_cnn.parameters(), lr = 0.001)"
   ]
  },
  {
   "cell_type": "code",
   "execution_count": 17,
   "id": "9f30dd31-5ff2-4254-9d0f-647b5fe6cb9c",
   "metadata": {},
   "outputs": [],
   "source": [
    "epochs = 10"
   ]
  },
  {
   "cell_type": "code",
   "execution_count": 18,
   "id": "c14ecef1-aa6a-4aa7-935c-ef0ae79bc2bf",
   "metadata": {},
   "outputs": [],
   "source": [
    "train_loss = []\n",
    "test_loss = []"
   ]
  },
  {
   "cell_type": "code",
   "execution_count": 19,
   "id": "739c38b4-9864-43a3-9d88-1e9d3cf88ff3",
   "metadata": {},
   "outputs": [
    {
     "name": "stdout",
     "output_type": "stream",
     "text": [
      "Using: cuda\n"
     ]
    }
   ],
   "source": [
    "device = torch.device(\"cuda\" if torch.cuda.is_available() else \"cpu\")\n",
    "print(\"Using:\", device)\n"
   ]
  },
  {
   "cell_type": "code",
   "execution_count": 23,
   "id": "fd3ff6f9-7073-4706-9335-e76d6126f622",
   "metadata": {},
   "outputs": [
    {
     "name": "stdout",
     "output_type": "stream",
     "text": [
      "Epoch 1/10 | Train Loss: 0.0515\n",
      "Epoch 1/10 | Train Loss: 0.0293\n",
      "Epoch 2/10 | Train Loss: 0.0424\n",
      "Epoch 2/10 | Train Loss: 0.0313\n",
      "Epoch 3/10 | Train Loss: 0.0383\n",
      "Epoch 3/10 | Train Loss: 0.0370\n",
      "Epoch 4/10 | Train Loss: 0.0351\n",
      "Epoch 4/10 | Train Loss: 0.0318\n",
      "Epoch 5/10 | Train Loss: 0.0298\n",
      "Epoch 5/10 | Train Loss: 0.0279\n",
      "Epoch 6/10 | Train Loss: 0.0269\n",
      "Epoch 6/10 | Train Loss: 0.0270\n",
      "Epoch 7/10 | Train Loss: 0.0243\n",
      "Epoch 7/10 | Train Loss: 0.0297\n",
      "Epoch 8/10 | Train Loss: 0.0241\n",
      "Epoch 8/10 | Train Loss: 0.0299\n",
      "Epoch 9/10 | Train Loss: 0.0215\n",
      "Epoch 9/10 | Train Loss: 0.0263\n",
      "Epoch 10/10 | Train Loss: 0.0200\n",
      "Epoch 10/10 | Train Loss: 0.0277\n"
     ]
    }
   ],
   "source": [
    "for epoch in range(epochs):\n",
    "    model_cnn.train()\n",
    "    running_loss = 0.0 \n",
    "    for img, label in train_loader:\n",
    "        img = img.to(device)\n",
    "        label = label.to(device)\n",
    "\n",
    "        optimizer.zero_grad()\n",
    "        outputs = model_cnn(img)\n",
    "        loss = critetion(outputs, label)\n",
    "        loss.backward()\n",
    "        optimizer.step()\n",
    "\n",
    "        running_loss += loss.item()\n",
    "    avg_training_loss = running_loss / len(train_loader)\n",
    "    train_loss.append(avg_training_loss)\n",
    "    print(f\"Epoch {epoch+1}/{epochs} | Train Loss: {avg_training_loss:.4f}\")\n",
    "\n",
    "    model_cnn.eval()\n",
    "    test_total = 0\n",
    "    with torch.no_grad():\n",
    "        for img, label in test_loader:\n",
    "            img = img.to(device)\n",
    "            label = label.to(device)\n",
    "\n",
    "            test_out = model_cnn(img)\n",
    "            loss = critetion(test_out, label)\n",
    "            test_total += loss.item()\n",
    "    avg_test_loss = test_total / len(test_loader)\n",
    "    test_loss.append(avg_test_loss)\n",
    "    print(f\"Epoch {epoch+1}/{epochs} | Train Loss: {avg_test_loss:.4f}\")\n",
    "\n",
    "        "
   ]
  },
  {
   "cell_type": "code",
   "execution_count": 25,
   "id": "7853fda9-9c97-42a6-ac74-b2b5d828f32c",
   "metadata": {},
   "outputs": [],
   "source": [
    "torch.save(model_cnn.state_dict(), \"model_cnn.pth\")\n"
   ]
  },
  {
   "cell_type": "code",
   "execution_count": 26,
   "id": "8919c3bc-86e1-4795-9f38-eabdbcf86a08",
   "metadata": {},
   "outputs": [
    {
     "data": {
      "image/png": "[encoded data removed]",
      "text/plain": [
       "<Figure size 800x500 with 1 Axes>"
      ]
     },
     "metadata": {},
     "output_type": "display_data"
    }
   ],
   "source": [
    "import matplotlib.pyplot as plt\n",
    "\n",
    "plt.figure(figsize=(8,5))\n",
    "plt.plot(train_loss, label='Train Loss', marker='o')\n",
    "plt.plot(test_loss, label='Test Loss', marker='o')\n",
    "plt.title(\"Training vs Test Loss\")\n",
    "plt.xlabel(\"Epoch\")\n",
    "plt.ylabel(\"Loss\")\n",
    "plt.legend()\n",
    "plt.grid(True)\n",
    "plt.show()\n"
   ]
  },
  {
   "cell_type": "code",
   "execution_count": 28,
   "id": "ba8971c0-cab4-49ae-af01-5f243b57bcbf",
   "metadata": {},
   "outputs": [],
   "source": [
    "from sklearn.metrics import accuracy_score, precision_score, recall_score, f1_score\n"
   ]
  },
  {
   "cell_type": "code",
   "execution_count": 30,
   "id": "547f3edc-14a0-4297-89e0-edecfecd183a",
   "metadata": {},
   "outputs": [],
   "source": [
    "def evaluate_model(model, dataloader, device):\n",
    "    model.eval()     \n",
    "    all_preds = []\n",
    "    all_labels = []\n",
    "\n",
    "    with torch.no_grad():\n",
    "        for imgs, labels in dataloader:\n",
    "            imgs = imgs.to(device)\n",
    "            labels = labels.to(device)\n",
    "\n",
    "            outputs = model(imgs)\n",
    "            preds = torch.argmax(outputs, dim=1)\n",
    "\n",
    "            all_preds.extend(preds.cpu().numpy())\n",
    "            all_labels.extend(labels.cpu().numpy())\n",
    "\n",
    "    acc = accuracy_score(all_labels, all_preds)\n",
    "    prec = precision_score(all_labels, all_preds, average='macro')\n",
    "    rec = recall_score(all_labels, all_preds, average='macro')\n",
    "    f1 = f1_score(all_labels, all_preds, average='macro')\n",
    "\n",
    "    return acc, prec, rec, f1\n"
   ]
  },
  {
   "cell_type": "code",
   "execution_count": 31,
   "id": "10da4014-0501-4cfc-83b6-b28ba5d614f0",
   "metadata": {},
   "outputs": [
    {
     "name": "stdout",
     "output_type": "stream",
     "text": [
      "\n",
      "🔹 TRAIN Metrics:\n",
      "Accuracy: 0.9984 | Precision: 0.9984 | Recall: 0.9984 | F1: 0.9984\n",
      "\n",
      "🔹 TEST Metrics:\n",
      "Accuracy: 0.9929 | Precision: 0.9929 | Recall: 0.9929 | F1: 0.9929\n"
     ]
    }
   ],
   "source": [
    "train_acc, train_prec, train_rec, train_f1 = evaluate_model(model_cnn, train_loader, device)\n",
    "test_acc, test_prec, test_rec, test_f1 = evaluate_model(model_cnn, test_loader, device)\n",
    "\n",
    "print(f\"\\n🔹 TRAIN Metrics:\")\n",
    "print(f\"Accuracy: {train_acc:.4f} | Precision: {train_prec:.4f} | Recall: {train_rec:.4f} | F1: {train_f1:.4f}\")\n",
    "\n",
    "print(f\"\\n🔹 TEST Metrics:\")\n",
    "print(f\"Accuracy: {test_acc:.4f} | Precision: {test_prec:.4f} | Recall: {test_rec:.4f} | F1: {test_f1:.4f}\")\n"
   ]
  },
  {
   "cell_type": "code",
   "execution_count": null,
   "id": "de77cf5f-9c17-41d1-a219-65b2604fc7e8",
   "metadata": {},
   "outputs": [],
   "source": []
  }
 ],
 "metadata": {
  "kernelspec": {
   "display_name": "Python 3 (ipykernel)",
   "language": "python",
   "name": "python3"
  },
  "language_info": {
   "codemirror_mode": {
    "name": "ipython",
    "version": 3
   },
   "file_extension": ".py",
   "mimetype": "text/x-python",
   "name": "python",
   "nbconvert_exporter": "python",
   "pygments_lexer": "ipython3",
   "version": "3.11.0"
  }
 },
 "nbformat": 4,
 "nbformat_minor": 5
}
